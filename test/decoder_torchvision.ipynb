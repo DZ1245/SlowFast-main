{
 "cells": [
  {
   "cell_type": "code",
   "execution_count": 6,
   "metadata": {},
   "outputs": [
    {
     "name": "stderr",
     "output_type": "stream",
     "text": [
      "/home/dz/anaconda3/envs/pytorch38/lib/python3.8/site-packages/tqdm-4.65.0-py3.8.egg/tqdm/auto.py:21: TqdmWarning: IProgress not found. Please update jupyter and ipywidgets. See https://ipywidgets.readthedocs.io/en/stable/user_install.html\n",
      "  from .autonotebook import tqdm as notebook_tqdm\n"
     ]
    }
   ],
   "source": [
    "import torch\n",
    "import numpy as np"
   ]
  },
  {
   "cell_type": "code",
   "execution_count": 1,
   "metadata": {},
   "outputs": [],
   "source": [
    "path_to_vid = \"/data/home/dz/Kinetics400/compress/train_256/riding_or_walking_with_horse/DHVf9gl3pWw_000008_000018.mp4\""
   ]
  },
  {
   "cell_type": "code",
   "execution_count": 2,
   "metadata": {},
   "outputs": [],
   "source": [
    "with open(path_to_vid, \"rb\") as fp:\n",
    "    container = fp.read()"
   ]
  },
  {
   "cell_type": "code",
   "execution_count": 13,
   "metadata": {},
   "outputs": [
    {
     "data": {
      "text/plain": [
       "396214"
      ]
     },
     "execution_count": 13,
     "metadata": {},
     "output_type": "execute_result"
    }
   ],
   "source": [
    "len(container)"
   ]
  },
  {
   "cell_type": "code",
   "execution_count": 4,
   "metadata": {},
   "outputs": [],
   "source": [
    "video_container = container"
   ]
  },
  {
   "cell_type": "code",
   "execution_count": 7,
   "metadata": {},
   "outputs": [
    {
     "name": "stderr",
     "output_type": "stream",
     "text": [
      "/tmp/ipykernel_2754/2717408759.py:1: UserWarning: The given NumPy array is not writable, and PyTorch does not support non-writable tensors. This means writing to this tensor will result in undefined behavior. You may want to copy the array to protect its data or make it writable before converting it to a tensor. This type of warning will be suppressed for the rest of this program. (Triggered internally at  /opt/conda/conda-bld/pytorch_1659484657607/work/torch/csrc/utils/tensor_numpy.cpp:178.)\n",
      "  video_tensor = torch.from_numpy(np.frombuffer(video_container, dtype=np.uint8))\n"
     ]
    }
   ],
   "source": [
    "video_tensor = torch.from_numpy(np.frombuffer(video_container, dtype=np.uint8))"
   ]
  },
  {
   "cell_type": "code",
   "execution_count": 9,
   "metadata": {},
   "outputs": [
    {
     "data": {
      "text/plain": [
       "torch.Size([396214])"
      ]
     },
     "execution_count": 9,
     "metadata": {},
     "output_type": "execute_result"
    }
   ],
   "source": [
    "video_tensor.shape"
   ]
  },
  {
   "cell_type": "code",
   "execution_count": 11,
   "metadata": {},
   "outputs": [],
   "source": [
    "import torchvision.io as io"
   ]
  },
  {
   "cell_type": "code",
   "execution_count": 12,
   "metadata": {},
   "outputs": [
    {
     "ename": "AttributeError",
     "evalue": "'_OpNamespace' object has no attribute 'probe_video_from_memory'",
     "output_type": "error",
     "traceback": [
      "\u001b[0;31m---------------------------------------------------------------------------\u001b[0m",
      "\u001b[0;31mRuntimeError\u001b[0m                              Traceback (most recent call last)",
      "File \u001b[0;32m~/anaconda3/envs/pytorch38/lib/python3.8/site-packages/torch/_ops.py:198\u001b[0m, in \u001b[0;36m_OpNamespace.__getattr__\u001b[0;34m(self, op_name)\u001b[0m\n\u001b[1;32m    197\u001b[0m \u001b[39mtry\u001b[39;00m:\n\u001b[0;32m--> 198\u001b[0m     op, overload_names \u001b[39m=\u001b[39m torch\u001b[39m.\u001b[39;49m_C\u001b[39m.\u001b[39;49m_jit_get_operation(qualified_op_name)\n\u001b[1;32m    199\u001b[0m \u001b[39mexcept\u001b[39;00m \u001b[39mRuntimeError\u001b[39;00m \u001b[39mas\u001b[39;00m e:\n\u001b[1;32m    200\u001b[0m     \u001b[39m# Turn this into AttributeError so getattr(obj, key, default)\u001b[39;00m\n\u001b[1;32m    201\u001b[0m     \u001b[39m# works (this is called by TorchScript with __origin__)\u001b[39;00m\n",
      "\u001b[0;31mRuntimeError\u001b[0m: No such operator video_reader::probe_video_from_memory",
      "\nThe above exception was the direct cause of the following exception:\n",
      "\u001b[0;31mAttributeError\u001b[0m                            Traceback (most recent call last)",
      "Cell \u001b[0;32mIn[12], line 1\u001b[0m\n\u001b[0;32m----> 1\u001b[0m meta \u001b[38;5;241m=\u001b[39m \u001b[43mio\u001b[49m\u001b[38;5;241;43m.\u001b[39;49m\u001b[43m_probe_video_from_memory\u001b[49m\u001b[43m(\u001b[49m\u001b[43mvideo_tensor\u001b[49m\u001b[43m)\u001b[49m\n",
      "File \u001b[0;32m~/anaconda3/envs/pytorch38/lib/python3.8/site-packages/torchvision/io/_video_opt.py:420\u001b[0m, in \u001b[0;36m_probe_video_from_memory\u001b[0;34m(video_data)\u001b[0m\n\u001b[1;32m    418\u001b[0m \u001b[39mif\u001b[39;00m \u001b[39mnot\u001b[39;00m \u001b[39misinstance\u001b[39m(video_data, torch\u001b[39m.\u001b[39mTensor):\n\u001b[1;32m    419\u001b[0m     video_data \u001b[39m=\u001b[39m torch\u001b[39m.\u001b[39mfrombuffer(video_data, dtype\u001b[39m=\u001b[39mtorch\u001b[39m.\u001b[39muint8)\n\u001b[0;32m--> 420\u001b[0m result \u001b[39m=\u001b[39m torch\u001b[39m.\u001b[39;49mops\u001b[39m.\u001b[39;49mvideo_reader\u001b[39m.\u001b[39;49mprobe_video_from_memory(video_data)\n\u001b[1;32m    421\u001b[0m vtimebase, vfps, vduration, atimebase, asample_rate, aduration \u001b[39m=\u001b[39m result\n\u001b[1;32m    422\u001b[0m info \u001b[39m=\u001b[39m _fill_info(vtimebase, vfps, vduration, atimebase, asample_rate, aduration)\n",
      "File \u001b[0;32m~/anaconda3/envs/pytorch38/lib/python3.8/site-packages/torch/_ops.py:202\u001b[0m, in \u001b[0;36m_OpNamespace.__getattr__\u001b[0;34m(self, op_name)\u001b[0m\n\u001b[1;32m    198\u001b[0m     op, overload_names \u001b[39m=\u001b[39m torch\u001b[39m.\u001b[39m_C\u001b[39m.\u001b[39m_jit_get_operation(qualified_op_name)\n\u001b[1;32m    199\u001b[0m \u001b[39mexcept\u001b[39;00m \u001b[39mRuntimeError\u001b[39;00m \u001b[39mas\u001b[39;00m e:\n\u001b[1;32m    200\u001b[0m     \u001b[39m# Turn this into AttributeError so getattr(obj, key, default)\u001b[39;00m\n\u001b[1;32m    201\u001b[0m     \u001b[39m# works (this is called by TorchScript with __origin__)\u001b[39;00m\n\u001b[0;32m--> 202\u001b[0m     \u001b[39mraise\u001b[39;00m \u001b[39mAttributeError\u001b[39;00m(\u001b[39mf\u001b[39m\u001b[39m\"\u001b[39m\u001b[39m'\u001b[39m\u001b[39m_OpNamespace\u001b[39m\u001b[39m'\u001b[39m\u001b[39m object has no attribute \u001b[39m\u001b[39m'\u001b[39m\u001b[39m{\u001b[39;00mop_name\u001b[39m}\u001b[39;00m\u001b[39m'\u001b[39m\u001b[39m\"\u001b[39m) \u001b[39mfrom\u001b[39;00m \u001b[39me\u001b[39;00m\n\u001b[1;32m    204\u001b[0m \u001b[39m# let the script frontend know that op is identical to the builtin op\u001b[39;00m\n\u001b[1;32m    205\u001b[0m \u001b[39m# with qualified_op_name\u001b[39;00m\n\u001b[1;32m    206\u001b[0m torch\u001b[39m.\u001b[39mjit\u001b[39m.\u001b[39m_builtins\u001b[39m.\u001b[39m_register_builtin(op, qualified_op_name)\n",
      "\u001b[0;31mAttributeError\u001b[0m: '_OpNamespace' object has no attribute 'probe_video_from_memory'"
     ]
    }
   ],
   "source": [
    "meta = io._probe_video_from_memory(video_tensor)"
   ]
  },
  {
   "cell_type": "code",
   "execution_count": 1,
   "metadata": {},
   "outputs": [
    {
     "name": "stdout",
     "output_type": "stream",
     "text": [
      "# packages in environment at /home/dz/anaconda3/envs/pytorch38:\n",
      "#\n",
      "# Name                    Version                   Build  Channel\n",
      "_libgcc_mutex             0.1                        main  \n",
      "_openmp_mutex             5.1                       1_gnu  \n",
      "absl-py                   1.4.0                    pypi_0    pypi\n",
      "antlr4-python3-runtime    4.9.3                    pypi_0    pypi\n",
      "asttokens                 2.2.1                    pypi_0    pypi\n",
      "av                        10.0.0                   pypi_0    pypi\n",
      "backcall                  0.2.0              pyhd3eb1b0_0  \n",
      "beautifulsoup4            4.11.2                   pypi_0    pypi\n",
      "black                     23.1.0                   pypi_0    pypi\n",
      "blas                      1.0                         mkl  \n",
      "blessings                 1.7             py38h06a4308_1002  \n",
      "brotli                    1.0.9                h5eee18b_7  \n",
      "brotli-bin                1.0.9                h5eee18b_7  \n",
      "brotlipy                  0.7.0           py38h0a891b7_1004    conda-forge\n",
      "bzip2                     1.0.8                h7f98852_4    conda-forge\n",
      "ca-certificates           2023.01.10           h06a4308_0  \n",
      "cachetools                5.3.0                    pypi_0    pypi\n",
      "certifi                   2022.12.7        py38h06a4308_0  \n",
      "cffi                      1.15.0           py38h3931269_0    conda-forge\n",
      "chardet                   5.1.0                    pypi_0    pypi\n",
      "charset-normalizer        3.1.0                    pypi_0    pypi\n",
      "click                     8.1.3                    pypi_0    pypi\n",
      "cloudpickle               2.2.1                    pypi_0    pypi\n",
      "cmake                     3.26.0                   pypi_0    pypi\n",
      "comm                      0.1.2            py38h06a4308_0  \n",
      "contourpy                 1.0.5            py38hdb19cb5_0  \n",
      "cryptography              37.0.2           py38h2b5fc30_0    conda-forge\n",
      "cuda-cudart               11.7.99                       0    nvidia\n",
      "cuda-cupti                11.7.101                      0    nvidia\n",
      "cuda-libraries            11.7.1                        0    nvidia\n",
      "cuda-nvrtc                11.7.99                       0    nvidia\n",
      "cuda-nvtx                 11.7.91                       0    nvidia\n",
      "cuda-runtime              11.7.1                        0    nvidia\n",
      "cudatoolkit               10.2.89              hfd86e86_1  \n",
      "cycler                    0.11.0             pyhd3eb1b0_0  \n",
      "dbus                      1.13.18              hb2f20db_0  \n",
      "debugpy                   1.5.1            py38h295c915_0  \n",
      "decorator                 5.1.1              pyhd3eb1b0_0  \n",
      "detectron2                0.6                       dev_0    <develop>\n",
      "entrypoints               0.4              py38h06a4308_0  \n",
      "executing                 1.2.0                    pypi_0    pypi\n",
      "expat                     2.4.9                h6a678d5_0  \n",
      "fairscale                 0.4.13                   pypi_0    pypi\n",
      "ffmpeg                    4.3                  hf484d3e_0    pytorch\n",
      "filelock                  3.10.0                   pypi_0    pypi\n",
      "fontconfig                2.14.1               h52c9d5c_1  \n",
      "fonttools                 4.39.2                   pypi_0    pypi\n",
      "freetype                  2.12.1               h4a9f257_0  \n",
      "fvcore                    0.1.5.post20221221          pypi_0    pypi\n",
      "giflib                    5.2.1                h5eee18b_3  \n",
      "glib                      2.69.1               he621ea3_2  \n",
      "gmp                       6.2.1                h58526e2_0    conda-forge\n",
      "gnutls                    3.6.13               h85f3911_1    conda-forge\n",
      "google                    3.0.0                    pypi_0    pypi\n",
      "google-auth               2.16.2                   pypi_0    pypi\n",
      "google-auth-oauthlib      0.4.6                    pypi_0    pypi\n",
      "gpustat                   0.6.0              pyhd3eb1b0_1  \n",
      "grpcio                    1.53.0rc2                pypi_0    pypi\n",
      "gst-plugins-base          1.14.1               h6a678d5_1  \n",
      "gstreamer                 1.14.1               h5eee18b_1  \n",
      "hydra-core                1.3.2                    pypi_0    pypi\n",
      "icu                       58.2                 he6710b0_3  \n",
      "idna                      3.4                pyhd8ed1ab_0    conda-forge\n",
      "importlib-metadata        6.1.0                    pypi_0    pypi\n",
      "importlib_resources       5.2.0              pyhd3eb1b0_1  \n",
      "intel-openmp              2021.4.0          h06a4308_3561  \n",
      "iopath                    0.1.9                    pypi_0    pypi\n",
      "ipykernel                 6.19.2           py38hb070fc8_0  \n",
      "ipython                   8.11.0                   pypi_0    pypi\n",
      "jedi                      0.18.2                   pypi_0    pypi\n",
      "jinja2                    3.1.2                    pypi_0    pypi\n",
      "joblib                    1.2.0                    pypi_0    pypi\n",
      "jpeg                      9e                   h5eee18b_1  \n",
      "jupyter_client            7.4.9            py38h06a4308_0  \n",
      "jupyter_core              5.2.0            py38h06a4308_0  \n",
      "kiwisolver                1.4.4            py38h6a678d5_0  \n",
      "krb5                      1.19.4               h568e23c_0  \n",
      "lame                      3.100             h7f98852_1001    conda-forge\n",
      "lcms2                     2.12                 h3be6417_0  \n",
      "ld_impl_linux-64          2.38                 h1181459_1  \n",
      "lerc                      3.0                  h295c915_0  \n",
      "libbrotlicommon           1.0.9                h5eee18b_7  \n",
      "libbrotlidec              1.0.9                h5eee18b_7  \n",
      "libbrotlienc              1.0.9                h5eee18b_7  \n",
      "libclang                  10.0.1          default_hb85057a_2  \n",
      "libcublas                 11.10.3.66                    0    nvidia\n",
      "libcufft                  10.7.2.124           h4fbf590_0    nvidia\n",
      "libcufile                 1.6.0.25                      0    nvidia\n",
      "libcurand                 10.3.2.56                     0    nvidia\n",
      "libcusolver               11.4.0.1                      0    nvidia\n",
      "libcusparse               11.7.4.91                     0    nvidia\n",
      "libdeflate                1.17                 h5eee18b_0  \n",
      "libedit                   3.1.20221030         h5eee18b_0  \n",
      "libevent                  2.1.12               h8f2d780_0  \n",
      "libffi                    3.4.2                h6a678d5_6  \n",
      "libgcc-ng                 11.2.0               h1234567_1  \n",
      "libgomp                   11.2.0               h1234567_1  \n",
      "libiconv                  1.17                 h166bdaf_0    conda-forge\n",
      "libllvm10                 10.0.1               hbcb73fb_5  \n",
      "libnpp                    11.7.4.75                     0    nvidia\n",
      "libnvjpeg                 11.8.0.2                      0    nvidia\n",
      "libpng                    1.6.39               h5eee18b_0  \n",
      "libpq                     12.9                 h16c4e8d_3  \n",
      "libsodium                 1.0.18               h7b6447c_0  \n",
      "libstdcxx-ng              11.2.0               h1234567_1  \n",
      "libtiff                   4.5.0                h6a678d5_2  \n",
      "libuuid                   1.41.5               h5eee18b_0  \n",
      "libwebp                   1.2.4                h11a3e52_1  \n",
      "libwebp-base              1.2.4                h5eee18b_1  \n",
      "libxcb                    1.15                 h7f8727e_0  \n",
      "libxkbcommon              1.0.1                hfa300c1_0  \n",
      "libxml2                   2.9.14               h74e7548_0  \n",
      "libxslt                   1.1.35               h4e12654_0  \n",
      "lit                       15.0.7                   pypi_0    pypi\n",
      "lz4-c                     1.9.4                h6a678d5_0  \n",
      "markdown                  3.4.1                    pypi_0    pypi\n",
      "markupsafe                2.1.2                    pypi_0    pypi\n",
      "matplotlib                3.7.1            py38h06a4308_0  \n",
      "matplotlib-base           3.7.1            py38h417a72b_0  \n",
      "matplotlib-inline         0.1.6            py38h06a4308_0  \n",
      "mkl                       2021.4.0           h06a4308_640  \n",
      "mkl-service               2.4.0            py38h7f8727e_0  \n",
      "mkl_fft                   1.3.1            py38hd3c417c_0  \n",
      "mkl_random                1.2.2            py38h51133e4_0  \n",
      "mpmath                    1.3.0                    pypi_0    pypi\n",
      "munkres                   1.1.4                      py_0  \n",
      "mypy-extensions           1.0.0                    pypi_0    pypi\n",
      "ncurses                   6.4                  h6a678d5_0  \n",
      "nest-asyncio              1.5.6            py38h06a4308_0  \n",
      "nettle                    3.6                  he412f7d_0    conda-forge\n",
      "networkx                  3.0                      pypi_0    pypi\n",
      "nspr                      4.33                 h295c915_0  \n",
      "nss                       3.74                 h0370c37_0  \n",
      "numpy                     1.23.5           py38h14f4228_0  \n",
      "numpy-base                1.23.5           py38h31eccc5_0  \n",
      "nvidia-cublas-cu11        11.10.3.66               pypi_0    pypi\n",
      "nvidia-cuda-cupti-cu11    11.7.101                 pypi_0    pypi\n",
      "nvidia-cuda-nvrtc-cu11    11.7.99                  pypi_0    pypi\n",
      "nvidia-cuda-runtime-cu11  11.7.99                  pypi_0    pypi\n",
      "nvidia-cufft-cu11         10.9.0.58                pypi_0    pypi\n",
      "nvidia-curand-cu11        10.2.10.91               pypi_0    pypi\n",
      "nvidia-cusparse-cu11      11.7.4.91                pypi_0    pypi\n",
      "nvidia-ml                 7.352.0            pyhd3eb1b0_0  \n",
      "nvidia-nccl-cu11          2.14.3                   pypi_0    pypi\n",
      "nvidia-nvtx-cu11          11.7.91                  pypi_0    pypi\n",
      "oauthlib                  3.2.2                    pypi_0    pypi\n",
      "omegaconf                 2.3.0                    pypi_0    pypi\n",
      "opencv-python             4.7.0.72                 pypi_0    pypi\n",
      "openh264                  2.1.1                h780b84a_0    conda-forge\n",
      "openssl                   1.1.1t               h7f8727e_0  \n",
      "packaging                 23.0             py38h06a4308_0  \n",
      "pandas                    2.0.0rc1                 pypi_0    pypi\n",
      "parameterized             0.8.1                    pypi_0    pypi\n",
      "parso                     0.8.3              pyhd3eb1b0_0  \n",
      "pathspec                  0.11.1                   pypi_0    pypi\n",
      "pcre                      8.45                 h295c915_0  \n",
      "pexpect                   4.8.0              pyhd3eb1b0_3  \n",
      "pickleshare               0.7.5           pyhd3eb1b0_1003  \n",
      "pillow                    9.4.0            py38h6a678d5_0  \n",
      "pip                       23.0.1           py38h06a4308_0  \n",
      "platformdirs              3.1.1                    pypi_0    pypi\n",
      "ply                       3.11                     py38_0  \n",
      "portalocker               2.7.0                    pypi_0    pypi\n",
      "prompt-toolkit            3.0.38                   pypi_0    pypi\n",
      "protobuf                  4.22.1                   pypi_0    pypi\n",
      "psutil                    5.9.4                    pypi_0    pypi\n",
      "ptyprocess                0.7.0              pyhd3eb1b0_2  \n",
      "pure_eval                 0.2.2              pyhd3eb1b0_0  \n",
      "pyasn1                    0.5.0rc2                 pypi_0    pypi\n",
      "pyasn1-modules            0.3.0rc1                 pypi_0    pypi\n",
      "pycocotools               2.0.6                    pypi_0    pypi\n",
      "pycparser                 2.21               pyhd8ed1ab_0    conda-forge\n",
      "pygments                  2.14.0                   pypi_0    pypi\n",
      "pyopenssl                 22.0.0             pyhd8ed1ab_1    conda-forge\n",
      "pyparsing                 3.0.9            py38h06a4308_0  \n",
      "pyqt                      5.15.7           py38h6a678d5_1  \n",
      "pyqt5-sip                 12.11.0          py38h6a678d5_1  \n",
      "pysocks                   1.7.1              pyha2e5f31_6    conda-forge\n",
      "python                    3.8.16               h7a1cb2a_3  \n",
      "python-dateutil           2.8.2              pyhd3eb1b0_0  \n",
      "python_abi                3.8                      2_cp38    conda-forge\n",
      "pytorch                   1.12.1          py3.8_cuda10.2_cudnn7.6.5_0    pytorch\n",
      "pytorch-cuda              11.7                 h778d358_3    pytorch\n",
      "pytorch-mutex             1.0                        cuda    pytorch\n",
      "pytorch-triton            2.1.0+2c32f43999          pypi_0    pypi\n",
      "pytorchvideo              0.1.5                     dev_0    <develop>\n",
      "pytz                      2022.7.1                 pypi_0    pypi\n",
      "pyyaml                    6.0                      pypi_0    pypi\n",
      "pyzmq                     23.2.0           py38h6a678d5_0  \n",
      "qt-main                   5.15.2               h327a75a_7  \n",
      "qt-webengine              5.15.9               hd2b0992_4  \n",
      "qtwebkit                  5.212                h4eab89a_4  \n",
      "readline                  8.2                  h5eee18b_0  \n",
      "requests                  2.28.2             pyhd8ed1ab_0    conda-forge\n",
      "requests-oauthlib         1.3.1                    pypi_0    pypi\n",
      "rsa                       4.9                      pypi_0    pypi\n",
      "scikit-learn              1.2.2                    pypi_0    pypi\n",
      "scipy                     1.10.1                   pypi_0    pypi\n",
      "setuptools                65.6.3           py38h06a4308_0  \n",
      "simplejson                3.18.4                   pypi_0    pypi\n",
      "sip                       6.6.2            py38h6a678d5_0  \n",
      "six                       1.16.0             pyhd3eb1b0_1  \n",
      "soupsieve                 2.4                      pypi_0    pypi\n",
      "sqlite                    3.41.1               h5eee18b_0  \n",
      "stack-data                0.6.2                    pypi_0    pypi\n",
      "stack_data                0.2.0              pyhd3eb1b0_0  \n",
      "sympy                     1.11.1                   pypi_0    pypi\n",
      "tabulate                  0.9.0                    pypi_0    pypi\n",
      "tensorboard               2.12.0                   pypi_0    pypi\n",
      "tensorboard-data-server   0.7.0                    pypi_0    pypi\n",
      "tensorboard-plugin-wit    1.8.1                    pypi_0    pypi\n",
      "termcolor                 2.2.0                    pypi_0    pypi\n",
      "threadpoolctl             3.1.0                    pypi_0    pypi\n",
      "tk                        8.6.12               h1ccaba5_0  \n",
      "toml                      0.10.2             pyhd3eb1b0_0  \n",
      "tomli                     2.0.1                    pypi_0    pypi\n",
      "torchaudio                2.1.0.dev20230319+cu117          pypi_0    pypi\n",
      "torchvision               0.16.0.dev20230319+cu117          pypi_0    pypi\n",
      "tornado                   6.2              py38h5eee18b_0  \n",
      "tqdm                      4.65.0                   pypi_0    pypi\n",
      "traitlets                 5.9.0                    pypi_0    pypi\n",
      "typing_extensions         4.5.0              pyha770c72_0    conda-forge\n",
      "urllib3                   1.26.15            pyhd8ed1ab_0    conda-forge\n",
      "wcwidth                   0.2.6                    pypi_0    pypi\n",
      "werkzeug                  2.2.3                    pypi_0    pypi\n",
      "wheel                     0.38.4           py38h06a4308_0  \n",
      "xz                        5.2.10               h5eee18b_1  \n",
      "yacs                      0.1.8                    pypi_0    pypi\n",
      "zeromq                    4.3.4                h2531618_0  \n",
      "zipp                      3.11.0           py38h06a4308_0  \n",
      "zlib                      1.2.13               h5eee18b_0  \n",
      "zstd                      1.5.2                ha4553b6_0  \n"
     ]
    }
   ],
   "source": [
    "!conda list"
   ]
  },
  {
   "cell_type": "code",
   "execution_count": null,
   "metadata": {},
   "outputs": [],
   "source": []
  }
 ],
 "metadata": {
  "kernelspec": {
   "display_name": "Python 3.8.16 ('pytorch38': conda)",
   "language": "python",
   "name": "python3"
  },
  "language_info": {
   "codemirror_mode": {
    "name": "ipython",
    "version": 3
   },
   "file_extension": ".py",
   "mimetype": "text/x-python",
   "name": "python",
   "nbconvert_exporter": "python",
   "pygments_lexer": "ipython3",
   "version": "3.8.16"
  },
  "orig_nbformat": 4,
  "vscode": {
   "interpreter": {
    "hash": "bf6aaf766d433d2f98f249c12bf59dd9d69c950777d3408402aaf7cdb2eb22d2"
   }
  }
 },
 "nbformat": 4,
 "nbformat_minor": 2
}
