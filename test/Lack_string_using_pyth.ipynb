{
 "cells": [
  {
   "cell_type": "code",
   "execution_count": 1,
   "metadata": {},
   "outputs": [
    {
     "name": "stderr",
     "output_type": "stream",
     "text": [
      "/home/dz/anaconda3/envs/pytorch38/lib/python3.8/site-packages/tqdm-4.65.0-py3.8.egg/tqdm/auto.py:21: TqdmWarning: IProgress not found. Please update jupyter and ipywidgets. See https://ipywidgets.readthedocs.io/en/stable/user_install.html\n",
      "  from .autonotebook import tqdm as notebook_tqdm\n",
      "/home/dz/anaconda3/envs/pytorch38/lib/python3.8/site-packages/torchvision/transforms/_functional_video.py:6: UserWarning: The 'torchvision.transforms._functional_video' module is deprecated since 0.12 and will be removed in 0.14. Please use the 'torchvision.transforms.functional' module instead.\n",
      "  warnings.warn(\n",
      "/home/dz/anaconda3/envs/pytorch38/lib/python3.8/site-packages/torchvision/transforms/_transforms_video.py:25: UserWarning: The 'torchvision.transforms._transforms_video' module is deprecated since 0.12 and will be removed in 0.14. Please use the 'torchvision.transforms' module instead.\n",
      "  warnings.warn(\n"
     ]
    }
   ],
   "source": [
    "import slowfast.utils.checkpoint as cu\n",
    "import slowfast.models.optimizer as optim"
   ]
  },
  {
   "cell_type": "code",
   "execution_count": 2,
   "metadata": {},
   "outputs": [],
   "source": [
    "from slowfast.utils.parser import load_config, parse_args\n",
    "from slowfast.config.defaults import get_cfg"
   ]
  },
  {
   "cell_type": "code",
   "execution_count": 3,
   "metadata": {},
   "outputs": [],
   "source": [
    "from slowfast.models import build_model"
   ]
  },
  {
   "cell_type": "code",
   "execution_count": 4,
   "metadata": {},
   "outputs": [],
   "source": [
    "path_to_config = \"/home/dz/workspace/SlowFast-main/configs/Test/MVITv2_S_16x4.yaml\""
   ]
  },
  {
   "cell_type": "code",
   "execution_count": 5,
   "metadata": {},
   "outputs": [],
   "source": [
    "cfg = get_cfg()\n",
    "cfg.merge_from_file(path_to_config)"
   ]
  },
  {
   "cell_type": "code",
   "execution_count": 6,
   "metadata": {},
   "outputs": [
    {
     "ename": "RuntimeError",
     "evalue": "Default process group has not been initialized, please make sure to call init_process_group.",
     "output_type": "error",
     "traceback": [
      "\u001b[0;31m---------------------------------------------------------------------------\u001b[0m",
      "\u001b[0;31mRuntimeError\u001b[0m                              Traceback (most recent call last)",
      "Cell \u001b[0;32mIn[6], line 1\u001b[0m\n\u001b[0;32m----> 1\u001b[0m model \u001b[39m=\u001b[39m build_model(cfg)\n",
      "File \u001b[0;32m~/workspace/SlowFast-main/slowfast/models/build.py:75\u001b[0m, in \u001b[0;36mbuild_model\u001b[0;34m(cfg, gpu_id)\u001b[0m\n\u001b[1;32m     72\u001b[0m \u001b[39m# Use multi-process data parallel model in the multi-gpu setting\u001b[39;00m\n\u001b[1;32m     73\u001b[0m \u001b[39mif\u001b[39;00m cfg\u001b[39m.\u001b[39mNUM_GPUS \u001b[39m>\u001b[39m \u001b[39m1\u001b[39m:\n\u001b[1;32m     74\u001b[0m     \u001b[39m# Make model replica operate on the current device\u001b[39;00m\n\u001b[0;32m---> 75\u001b[0m     model \u001b[39m=\u001b[39m torch\u001b[39m.\u001b[39;49mnn\u001b[39m.\u001b[39;49mparallel\u001b[39m.\u001b[39;49mDistributedDataParallel(\n\u001b[1;32m     76\u001b[0m         module\u001b[39m=\u001b[39;49mmodel,\n\u001b[1;32m     77\u001b[0m         device_ids\u001b[39m=\u001b[39;49m[cur_device],\n\u001b[1;32m     78\u001b[0m         output_device\u001b[39m=\u001b[39;49mcur_device,\n\u001b[1;32m     79\u001b[0m         find_unused_parameters\u001b[39m=\u001b[39;49m\u001b[39mTrue\u001b[39;49;00m\n\u001b[1;32m     80\u001b[0m         \u001b[39mif\u001b[39;49;00m cfg\u001b[39m.\u001b[39;49mMODEL\u001b[39m.\u001b[39;49mDETACH_FINAL_FC\n\u001b[1;32m     81\u001b[0m         \u001b[39mor\u001b[39;49;00m cfg\u001b[39m.\u001b[39;49mMODEL\u001b[39m.\u001b[39;49mMODEL_NAME \u001b[39m==\u001b[39;49m \u001b[39m\"\u001b[39;49m\u001b[39mContrastiveModel\u001b[39;49m\u001b[39m\"\u001b[39;49m\n\u001b[1;32m     82\u001b[0m         \u001b[39melse\u001b[39;49;00m \u001b[39mFalse\u001b[39;49;00m,\n\u001b[1;32m     83\u001b[0m     )\n\u001b[1;32m     84\u001b[0m     \u001b[39mif\u001b[39;00m cfg\u001b[39m.\u001b[39mMODEL\u001b[39m.\u001b[39mFP16_ALLREDUCE:\n\u001b[1;32m     85\u001b[0m         model\u001b[39m.\u001b[39mregister_comm_hook(\n\u001b[1;32m     86\u001b[0m             state\u001b[39m=\u001b[39m\u001b[39mNone\u001b[39;00m, hook\u001b[39m=\u001b[39mcomm_hooks_default\u001b[39m.\u001b[39mfp16_compress_hook\n\u001b[1;32m     87\u001b[0m         )\n",
      "File \u001b[0;32m~/anaconda3/envs/pytorch38/lib/python3.8/site-packages/torch/nn/parallel/distributed.py:595\u001b[0m, in \u001b[0;36mDistributedDataParallel.__init__\u001b[0;34m(self, module, device_ids, output_device, dim, broadcast_buffers, process_group, bucket_cap_mb, find_unused_parameters, check_reduction, gradient_as_bucket_view, static_graph)\u001b[0m\n\u001b[1;32m    592\u001b[0m     \u001b[39mself\u001b[39m\u001b[39m.\u001b[39moutput_device \u001b[39m=\u001b[39m _get_device_index(output_device, \u001b[39mTrue\u001b[39;00m)\n\u001b[1;32m    594\u001b[0m \u001b[39mif\u001b[39;00m process_group \u001b[39mis\u001b[39;00m \u001b[39mNone\u001b[39;00m:\n\u001b[0;32m--> 595\u001b[0m     \u001b[39mself\u001b[39m\u001b[39m.\u001b[39mprocess_group \u001b[39m=\u001b[39m _get_default_group()\n\u001b[1;32m    596\u001b[0m \u001b[39melse\u001b[39;00m:\n\u001b[1;32m    597\u001b[0m     \u001b[39mself\u001b[39m\u001b[39m.\u001b[39mprocess_group \u001b[39m=\u001b[39m process_group\n",
      "File \u001b[0;32m~/anaconda3/envs/pytorch38/lib/python3.8/site-packages/torch/distributed/distributed_c10d.py:429\u001b[0m, in \u001b[0;36m_get_default_group\u001b[0;34m()\u001b[0m\n\u001b[1;32m    425\u001b[0m \u001b[39m\"\"\"\u001b[39;00m\n\u001b[1;32m    426\u001b[0m \u001b[39mGetting the default process group created by init_process_group\u001b[39;00m\n\u001b[1;32m    427\u001b[0m \u001b[39m\"\"\"\u001b[39;00m\n\u001b[1;32m    428\u001b[0m \u001b[39mif\u001b[39;00m \u001b[39mnot\u001b[39;00m is_initialized():\n\u001b[0;32m--> 429\u001b[0m     \u001b[39mraise\u001b[39;00m \u001b[39mRuntimeError\u001b[39;00m(\n\u001b[1;32m    430\u001b[0m         \u001b[39m\"\u001b[39m\u001b[39mDefault process group has not been initialized, \u001b[39m\u001b[39m\"\u001b[39m\n\u001b[1;32m    431\u001b[0m         \u001b[39m\"\u001b[39m\u001b[39mplease make sure to call init_process_group.\u001b[39m\u001b[39m\"\u001b[39m\n\u001b[1;32m    432\u001b[0m     )\n\u001b[1;32m    433\u001b[0m \u001b[39mreturn\u001b[39;00m GroupMember\u001b[39m.\u001b[39mWORLD\n",
      "\u001b[0;31mRuntimeError\u001b[0m: Default process group has not been initialized, please make sure to call init_process_group."
     ]
    }
   ],
   "source": [
    "model = build_model(cfg)"
   ]
  },
  {
   "cell_type": "code",
   "execution_count": 6,
   "metadata": {},
   "outputs": [],
   "source": [
    "checkpoint_epoch = cu.load_checkpoint(\n",
    "            cfg.TRAIN.CHECKPOINT_FILE_PATH,\n",
    "            model,\n",
    "            cfg.NUM_GPUS > 1,\n",
    "            optimizer,\n",
    "            scaler if cfg.TRAIN.MIXED_PRECISION else None,\n",
    "            inflation=cfg.TRAIN.CHECKPOINT_INFLATE,\n",
    "            convert_from_caffe2=cfg.TRAIN.CHECKPOINT_TYPE == \"caffe2\",\n",
    "            epoch_reset=cfg.TRAIN.CHECKPOINT_EPOCH_RESET,\n",
    "            clear_name_pattern=cfg.TRAIN.CHECKPOINT_CLEAR_NAME_PATTERN,\n",
    "            image_init=cfg.TRAIN.CHECKPOINT_IN_INIT,\n",
    "        )"
   ]
  },
  {
   "cell_type": "code",
   "execution_count": 8,
   "metadata": {},
   "outputs": [
    {
     "data": {
      "text/plain": [
       "True"
      ]
     },
     "execution_count": 8,
     "metadata": {},
     "output_type": "execute_result"
    }
   ],
   "source": []
  },
  {
   "cell_type": "code",
   "execution_count": null,
   "metadata": {},
   "outputs": [],
   "source": []
  }
 ],
 "metadata": {
  "kernelspec": {
   "display_name": "pytorch38",
   "language": "python",
   "name": "python3"
  },
  "language_info": {
   "codemirror_mode": {
    "name": "ipython",
    "version": 3
   },
   "file_extension": ".py",
   "mimetype": "text/x-python",
   "name": "python",
   "nbconvert_exporter": "python",
   "pygments_lexer": "ipython3",
   "version": "3.8.16"
  },
  "orig_nbformat": 4
 },
 "nbformat": 4,
 "nbformat_minor": 2
}
