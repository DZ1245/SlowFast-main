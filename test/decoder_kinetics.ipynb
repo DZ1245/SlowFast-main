{
 "cells": [
  {
   "cell_type": "code",
   "execution_count": 1,
   "metadata": {},
   "outputs": [],
   "source": [
    "from slowfast.config.defaults import get_cfg"
   ]
  },
  {
   "cell_type": "code",
   "execution_count": 2,
   "metadata": {},
   "outputs": [],
   "source": [
    "path_to_config = \"/home/dz/workspace/SlowFast-main/configs/Kinetics/MVIT_B_16x4_CONV.yaml\"\n",
    "cfg = get_cfg()\n",
    "cfg.merge_from_file(path_to_config)"
   ]
  },
  {
   "cell_type": "code",
   "execution_count": 3,
   "metadata": {},
   "outputs": [
    {
     "name": "stderr",
     "output_type": "stream",
     "text": [
      "/home/dz/anaconda3/envs/pytorch38/lib/python3.8/site-packages/tqdm-4.65.0-py3.8.egg/tqdm/auto.py:21: TqdmWarning: IProgress not found. Please update jupyter and ipywidgets. See https://ipywidgets.readthedocs.io/en/stable/user_install.html\n",
      "  from .autonotebook import tqdm as notebook_tqdm\n",
      "/home/dz/anaconda3/envs/pytorch38/lib/python3.8/site-packages/torchvision/transforms/_functional_video.py:6: UserWarning: The 'torchvision.transforms._functional_video' module is deprecated since 0.12 and will be removed in 0.14. Please use the 'torchvision.transforms.functional' module instead.\n",
      "  warnings.warn(\n",
      "/home/dz/anaconda3/envs/pytorch38/lib/python3.8/site-packages/torchvision/transforms/_transforms_video.py:25: UserWarning: The 'torchvision.transforms._transforms_video' module is deprecated since 0.12 and will be removed in 0.14. Please use the 'torchvision.transforms' module instead.\n",
      "  warnings.warn(\n"
     ]
    }
   ],
   "source": [
    "from slowfast.datasets.kinetics import Kinetics"
   ]
  },
  {
   "cell_type": "code",
   "execution_count": 4,
   "metadata": {},
   "outputs": [],
   "source": [
    "split = 'train'\n",
    "K = Kinetics(cfg, split)"
   ]
  },
  {
   "cell_type": "code",
   "execution_count": 13,
   "metadata": {},
   "outputs": [
    {
     "data": {
      "text/plain": [
       "16"
      ]
     },
     "execution_count": 13,
     "metadata": {},
     "output_type": "execute_result"
    }
   ],
   "source": [
    "cfg.DATA.NUM_FRAMES"
   ]
  },
  {
   "cell_type": "code",
   "execution_count": 16,
   "metadata": {},
   "outputs": [
    {
     "data": {
      "text/plain": [
       "4"
      ]
     },
     "execution_count": 16,
     "metadata": {},
     "output_type": "execute_result"
    }
   ],
   "source": [
    "cfg.DATA.SAMPLING_RATE"
   ]
  },
  {
   "cell_type": "code",
   "execution_count": 5,
   "metadata": {},
   "outputs": [
    {
     "name": "stderr",
     "output_type": "stream",
     "text": [
      "Failed to decode video idx 1 from /data/home/dz/Kinetics400/compress/train_256/abseiling/RaMF5rudRLQ_002699_002709.mp4; trial 0\n",
      "Failed to decode video idx 35747 from /data/home/dz/Kinetics400/compress/train_256/clean_and_jerk/lQsFhxQqg8M_000002_000012.mp4; trial 1\n",
      "Failed to decode video idx 35747 from /data/home/dz/Kinetics400/compress/train_256/clean_and_jerk/lQsFhxQqg8M_000002_000012.mp4; trial 2\n",
      "Failed to decode video idx 35747 from /data/home/dz/Kinetics400/compress/train_256/clean_and_jerk/lQsFhxQqg8M_000002_000012.mp4; trial 3\n",
      "Failed to decode video idx 35747 from /data/home/dz/Kinetics400/compress/train_256/clean_and_jerk/lQsFhxQqg8M_000002_000012.mp4; trial 4\n",
      "Failed to decode video idx 35747 from /data/home/dz/Kinetics400/compress/train_256/clean_and_jerk/lQsFhxQqg8M_000002_000012.mp4; trial 5\n",
      "Failed to decode video idx 35747 from /data/home/dz/Kinetics400/compress/train_256/clean_and_jerk/lQsFhxQqg8M_000002_000012.mp4; trial 6\n",
      "Failed to decode video idx 35747 from /data/home/dz/Kinetics400/compress/train_256/clean_and_jerk/lQsFhxQqg8M_000002_000012.mp4; trial 7\n",
      "Failed to decode video idx 35747 from /data/home/dz/Kinetics400/compress/train_256/clean_and_jerk/lQsFhxQqg8M_000002_000012.mp4; trial 8\n",
      "Failed to decode video idx 35747 from /data/home/dz/Kinetics400/compress/train_256/clean_and_jerk/lQsFhxQqg8M_000002_000012.mp4; trial 9\n",
      "Failed to decode video idx 35747 from /data/home/dz/Kinetics400/compress/train_256/clean_and_jerk/lQsFhxQqg8M_000002_000012.mp4; trial 10\n",
      "Failed to decode video idx 35747 from /data/home/dz/Kinetics400/compress/train_256/clean_and_jerk/lQsFhxQqg8M_000002_000012.mp4; trial 11\n",
      "Failed to decode video idx 35747 from /data/home/dz/Kinetics400/compress/train_256/clean_and_jerk/lQsFhxQqg8M_000002_000012.mp4; trial 12\n",
      "Failed to decode video idx 161033 from /data/home/dz/Kinetics400/compress/train_256/riding_elephant/BRhzpNDvUVI_000000_000010.mp4; trial 13\n",
      "Failed to decode video idx 161033 from /data/home/dz/Kinetics400/compress/train_256/riding_elephant/BRhzpNDvUVI_000000_000010.mp4; trial 14\n",
      "Failed to decode video idx 161033 from /data/home/dz/Kinetics400/compress/train_256/riding_elephant/BRhzpNDvUVI_000000_000010.mp4; trial 15\n",
      "Failed to decode video idx 161033 from /data/home/dz/Kinetics400/compress/train_256/riding_elephant/BRhzpNDvUVI_000000_000010.mp4; trial 16\n",
      "Failed to decode video idx 161033 from /data/home/dz/Kinetics400/compress/train_256/riding_elephant/BRhzpNDvUVI_000000_000010.mp4; trial 17\n",
      "Failed to decode video idx 161033 from /data/home/dz/Kinetics400/compress/train_256/riding_elephant/BRhzpNDvUVI_000000_000010.mp4; trial 18\n",
      "Failed to decode video idx 161033 from /data/home/dz/Kinetics400/compress/train_256/riding_elephant/BRhzpNDvUVI_000000_000010.mp4; trial 19\n"
     ]
    },
    {
     "name": "stdout",
     "output_type": "stream",
     "text": [
      "Failed to decode by pyav with exception: unsupported operand type(s) for -: 'list' and 'int'\n",
      "Failed to decode by pyav with exception: unsupported operand type(s) for -: 'list' and 'int'\n",
      "Failed to decode by pyav with exception: unsupported operand type(s) for -: 'list' and 'int'\n",
      "Failed to decode by pyav with exception: unsupported operand type(s) for -: 'list' and 'int'\n",
      "Failed to decode by pyav with exception: unsupported operand type(s) for -: 'list' and 'int'\n",
      "Failed to decode by pyav with exception: unsupported operand type(s) for -: 'list' and 'int'\n",
      "Failed to decode by pyav with exception: unsupported operand type(s) for -: 'list' and 'int'\n",
      "Failed to decode by pyav with exception: unsupported operand type(s) for -: 'list' and 'int'\n",
      "Failed to decode by pyav with exception: unsupported operand type(s) for -: 'list' and 'int'\n",
      "Failed to decode by pyav with exception: unsupported operand type(s) for -: 'list' and 'int'\n",
      "Failed to decode by pyav with exception: unsupported operand type(s) for -: 'list' and 'int'\n",
      "Failed to decode by pyav with exception: unsupported operand type(s) for -: 'list' and 'int'\n",
      "Failed to decode by pyav with exception: unsupported operand type(s) for -: 'list' and 'int'\n",
      "Failed to decode by pyav with exception: unsupported operand type(s) for -: 'list' and 'int'\n",
      "Failed to decode by pyav with exception: unsupported operand type(s) for -: 'list' and 'int'\n",
      "Failed to decode by pyav with exception: unsupported operand type(s) for -: 'list' and 'int'\n",
      "Failed to decode by pyav with exception: unsupported operand type(s) for -: 'list' and 'int'\n",
      "Failed to decode by pyav with exception: unsupported operand type(s) for -: 'list' and 'int'\n",
      "Failed to decode by pyav with exception: unsupported operand type(s) for -: 'list' and 'int'\n",
      "Failed to decode by pyav with exception: unsupported operand type(s) for -: 'list' and 'int'\n"
     ]
    },
    {
     "name": "stderr",
     "output_type": "stream",
     "text": [
      "Failed to decode video idx 161033 from /data/home/dz/Kinetics400/compress/train_256/riding_elephant/BRhzpNDvUVI_000000_000010.mp4; trial 20\n",
      "Failed to decode video idx 161033 from /data/home/dz/Kinetics400/compress/train_256/riding_elephant/BRhzpNDvUVI_000000_000010.mp4; trial 21\n",
      "Failed to decode video idx 161033 from /data/home/dz/Kinetics400/compress/train_256/riding_elephant/BRhzpNDvUVI_000000_000010.mp4; trial 22\n",
      "Failed to decode video idx 161033 from /data/home/dz/Kinetics400/compress/train_256/riding_elephant/BRhzpNDvUVI_000000_000010.mp4; trial 23\n",
      "Failed to decode video idx 161033 from /data/home/dz/Kinetics400/compress/train_256/riding_elephant/BRhzpNDvUVI_000000_000010.mp4; trial 24\n",
      "Failed to decode video idx 234571 from /data/home/dz/Kinetics400/compress/train_256/zumba/0bPpp_zaMOA_000000_000010.mp4; trial 25\n",
      "Failed to decode video idx 234571 from /data/home/dz/Kinetics400/compress/train_256/zumba/0bPpp_zaMOA_000000_000010.mp4; trial 26\n",
      "Failed to decode video idx 234571 from /data/home/dz/Kinetics400/compress/train_256/zumba/0bPpp_zaMOA_000000_000010.mp4; trial 27\n",
      "Failed to decode video idx 234571 from /data/home/dz/Kinetics400/compress/train_256/zumba/0bPpp_zaMOA_000000_000010.mp4; trial 28\n",
      "Failed to decode video idx 234571 from /data/home/dz/Kinetics400/compress/train_256/zumba/0bPpp_zaMOA_000000_000010.mp4; trial 29\n",
      "Failed to decode video idx 234571 from /data/home/dz/Kinetics400/compress/train_256/zumba/0bPpp_zaMOA_000000_000010.mp4; trial 30\n",
      "Failed to decode video idx 234571 from /data/home/dz/Kinetics400/compress/train_256/zumba/0bPpp_zaMOA_000000_000010.mp4; trial 31\n",
      "Failed to decode video idx 234571 from /data/home/dz/Kinetics400/compress/train_256/zumba/0bPpp_zaMOA_000000_000010.mp4; trial 32\n",
      "Failed to decode video idx 234571 from /data/home/dz/Kinetics400/compress/train_256/zumba/0bPpp_zaMOA_000000_000010.mp4; trial 33\n",
      "Failed to decode video idx 234571 from /data/home/dz/Kinetics400/compress/train_256/zumba/0bPpp_zaMOA_000000_000010.mp4; trial 34\n",
      "Failed to decode video idx 234571 from /data/home/dz/Kinetics400/compress/train_256/zumba/0bPpp_zaMOA_000000_000010.mp4; trial 35\n",
      "Failed to decode video idx 234571 from /data/home/dz/Kinetics400/compress/train_256/zumba/0bPpp_zaMOA_000000_000010.mp4; trial 36\n"
     ]
    },
    {
     "name": "stdout",
     "output_type": "stream",
     "text": [
      "Failed to decode by pyav with exception: unsupported operand type(s) for -: 'list' and 'int'\n",
      "Failed to decode by pyav with exception: unsupported operand type(s) for -: 'list' and 'int'\n",
      "Failed to decode by pyav with exception: unsupported operand type(s) for -: 'list' and 'int'\n",
      "Failed to decode by pyav with exception: unsupported operand type(s) for -: 'list' and 'int'\n",
      "Failed to decode by pyav with exception: unsupported operand type(s) for -: 'list' and 'int'\n",
      "Failed to decode by pyav with exception: unsupported operand type(s) for -: 'list' and 'int'\n",
      "Failed to decode by pyav with exception: unsupported operand type(s) for -: 'list' and 'int'\n",
      "Failed to decode by pyav with exception: unsupported operand type(s) for -: 'list' and 'int'\n",
      "Failed to decode by pyav with exception: unsupported operand type(s) for -: 'list' and 'int'\n",
      "Failed to decode by pyav with exception: unsupported operand type(s) for -: 'list' and 'int'\n",
      "Failed to decode by pyav with exception: unsupported operand type(s) for -: 'list' and 'int'\n",
      "Failed to decode by pyav with exception: unsupported operand type(s) for -: 'list' and 'int'\n",
      "Failed to decode by pyav with exception: unsupported operand type(s) for -: 'list' and 'int'\n",
      "Failed to decode by pyav with exception: unsupported operand type(s) for -: 'list' and 'int'\n",
      "Failed to decode by pyav with exception: unsupported operand type(s) for -: 'list' and 'int'\n",
      "Failed to decode by pyav with exception: unsupported operand type(s) for -: 'list' and 'int'\n",
      "Failed to decode by pyav with exception: unsupported operand type(s) for -: 'list' and 'int'\n"
     ]
    },
    {
     "name": "stderr",
     "output_type": "stream",
     "text": [
      "Failed to decode video idx 146664 from /data/home/dz/Kinetics400/compress/train_256/playing_trumpet/PlRIvGiZ2ok_000007_000017.mp4; trial 37\n",
      "Failed to decode video idx 146664 from /data/home/dz/Kinetics400/compress/train_256/playing_trumpet/PlRIvGiZ2ok_000007_000017.mp4; trial 38\n",
      "Failed to decode video idx 146664 from /data/home/dz/Kinetics400/compress/train_256/playing_trumpet/PlRIvGiZ2ok_000007_000017.mp4; trial 39\n",
      "Failed to decode video idx 146664 from /data/home/dz/Kinetics400/compress/train_256/playing_trumpet/PlRIvGiZ2ok_000007_000017.mp4; trial 40\n",
      "Failed to decode video idx 146664 from /data/home/dz/Kinetics400/compress/train_256/playing_trumpet/PlRIvGiZ2ok_000007_000017.mp4; trial 41\n",
      "Failed to decode video idx 146664 from /data/home/dz/Kinetics400/compress/train_256/playing_trumpet/PlRIvGiZ2ok_000007_000017.mp4; trial 42\n",
      "Failed to decode video idx 146664 from /data/home/dz/Kinetics400/compress/train_256/playing_trumpet/PlRIvGiZ2ok_000007_000017.mp4; trial 43\n",
      "Failed to decode video idx 146664 from /data/home/dz/Kinetics400/compress/train_256/playing_trumpet/PlRIvGiZ2ok_000007_000017.mp4; trial 44\n",
      "Failed to decode video idx 146664 from /data/home/dz/Kinetics400/compress/train_256/playing_trumpet/PlRIvGiZ2ok_000007_000017.mp4; trial 45\n",
      "Failed to decode video idx 146664 from /data/home/dz/Kinetics400/compress/train_256/playing_trumpet/PlRIvGiZ2ok_000007_000017.mp4; trial 46\n",
      "Failed to decode video idx 146664 from /data/home/dz/Kinetics400/compress/train_256/playing_trumpet/PlRIvGiZ2ok_000007_000017.mp4; trial 47\n",
      "Failed to decode video idx 146664 from /data/home/dz/Kinetics400/compress/train_256/playing_trumpet/PlRIvGiZ2ok_000007_000017.mp4; trial 48\n",
      "Failed to decode video idx 129495 from /data/home/dz/Kinetics400/compress/train_256/playing_cello/JMM5OCWiESo_000608_000618.mp4; trial 49\n",
      "Failed to decode video idx 129495 from /data/home/dz/Kinetics400/compress/train_256/playing_cello/JMM5OCWiESo_000608_000618.mp4; trial 50\n",
      "Failed to decode video idx 129495 from /data/home/dz/Kinetics400/compress/train_256/playing_cello/JMM5OCWiESo_000608_000618.mp4; trial 51\n",
      "Failed to decode video idx 129495 from /data/home/dz/Kinetics400/compress/train_256/playing_cello/JMM5OCWiESo_000608_000618.mp4; trial 52\n",
      "Failed to decode video idx 129495 from /data/home/dz/Kinetics400/compress/train_256/playing_cello/JMM5OCWiESo_000608_000618.mp4; trial 53\n",
      "Failed to decode video idx 129495 from /data/home/dz/Kinetics400/compress/train_256/playing_cello/JMM5OCWiESo_000608_000618.mp4; trial 54\n",
      "Failed to decode video idx 129495 from /data/home/dz/Kinetics400/compress/train_256/playing_cello/JMM5OCWiESo_000608_000618.mp4; trial 55\n",
      "Failed to decode video idx 129495 from /data/home/dz/Kinetics400/compress/train_256/playing_cello/JMM5OCWiESo_000608_000618.mp4; trial 56\n",
      "Failed to decode video idx 129495 from /data/home/dz/Kinetics400/compress/train_256/playing_cello/JMM5OCWiESo_000608_000618.mp4; trial 57\n",
      "Failed to decode video idx 129495 from /data/home/dz/Kinetics400/compress/train_256/playing_cello/JMM5OCWiESo_000608_000618.mp4; trial 58\n",
      "Failed to decode video idx 129495 from /data/home/dz/Kinetics400/compress/train_256/playing_cello/JMM5OCWiESo_000608_000618.mp4; trial 59\n",
      "Failed to decode video idx 129495 from /data/home/dz/Kinetics400/compress/train_256/playing_cello/JMM5OCWiESo_000608_000618.mp4; trial 60\n"
     ]
    },
    {
     "name": "stdout",
     "output_type": "stream",
     "text": [
      "Failed to decode by pyav with exception: unsupported operand type(s) for -: 'list' and 'int'\n",
      "Failed to decode by pyav with exception: unsupported operand type(s) for -: 'list' and 'int'\n",
      "Failed to decode by pyav with exception: unsupported operand type(s) for -: 'list' and 'int'\n",
      "Failed to decode by pyav with exception: unsupported operand type(s) for -: 'list' and 'int'\n",
      "Failed to decode by pyav with exception: unsupported operand type(s) for -: 'list' and 'int'\n",
      "Failed to decode by pyav with exception: unsupported operand type(s) for -: 'list' and 'int'\n",
      "Failed to decode by pyav with exception: unsupported operand type(s) for -: 'list' and 'int'\n",
      "Failed to decode by pyav with exception: unsupported operand type(s) for -: 'list' and 'int'\n",
      "Failed to decode by pyav with exception: unsupported operand type(s) for -: 'list' and 'int'\n",
      "Failed to decode by pyav with exception: unsupported operand type(s) for -: 'list' and 'int'\n",
      "Failed to decode by pyav with exception: unsupported operand type(s) for -: 'list' and 'int'\n",
      "Failed to decode by pyav with exception: unsupported operand type(s) for -: 'list' and 'int'\n",
      "Failed to decode by pyav with exception: unsupported operand type(s) for -: 'list' and 'int'\n",
      "Failed to decode by pyav with exception: unsupported operand type(s) for -: 'list' and 'int'\n",
      "Failed to decode by pyav with exception: unsupported operand type(s) for -: 'list' and 'int'\n",
      "Failed to decode by pyav with exception: unsupported operand type(s) for -: 'list' and 'int'\n",
      "Failed to decode by pyav with exception: unsupported operand type(s) for -: 'list' and 'int'\n",
      "Failed to decode by pyav with exception: unsupported operand type(s) for -: 'list' and 'int'\n",
      "Failed to decode by pyav with exception: unsupported operand type(s) for -: 'list' and 'int'\n",
      "Failed to decode by pyav with exception: unsupported operand type(s) for -: 'list' and 'int'\n",
      "Failed to decode by pyav with exception: unsupported operand type(s) for -: 'list' and 'int'\n",
      "Failed to decode by pyav with exception: unsupported operand type(s) for -: 'list' and 'int'\n",
      "Failed to decode by pyav with exception: unsupported operand type(s) for -: 'list' and 'int'\n",
      "Failed to decode by pyav with exception: unsupported operand type(s) for -: 'list' and 'int'\n"
     ]
    },
    {
     "name": "stderr",
     "output_type": "stream",
     "text": [
      "Failed to decode video idx 148346 from /data/home/dz/Kinetics400/compress/train_256/playing_violin/aRJXxA_1f6U_000010_000020.mp4; trial 61\n",
      "Failed to decode video idx 148346 from /data/home/dz/Kinetics400/compress/train_256/playing_violin/aRJXxA_1f6U_000010_000020.mp4; trial 62\n",
      "Failed to decode video idx 148346 from /data/home/dz/Kinetics400/compress/train_256/playing_violin/aRJXxA_1f6U_000010_000020.mp4; trial 63\n",
      "Failed to decode video idx 148346 from /data/home/dz/Kinetics400/compress/train_256/playing_violin/aRJXxA_1f6U_000010_000020.mp4; trial 64\n",
      "Failed to decode video idx 148346 from /data/home/dz/Kinetics400/compress/train_256/playing_violin/aRJXxA_1f6U_000010_000020.mp4; trial 65\n",
      "Failed to decode video idx 148346 from /data/home/dz/Kinetics400/compress/train_256/playing_violin/aRJXxA_1f6U_000010_000020.mp4; trial 66\n",
      "Failed to decode video idx 148346 from /data/home/dz/Kinetics400/compress/train_256/playing_violin/aRJXxA_1f6U_000010_000020.mp4; trial 67\n",
      "Failed to decode video idx 148346 from /data/home/dz/Kinetics400/compress/train_256/playing_violin/aRJXxA_1f6U_000010_000020.mp4; trial 68\n",
      "Failed to decode video idx 148346 from /data/home/dz/Kinetics400/compress/train_256/playing_violin/aRJXxA_1f6U_000010_000020.mp4; trial 69\n",
      "Failed to decode video idx 148346 from /data/home/dz/Kinetics400/compress/train_256/playing_violin/aRJXxA_1f6U_000010_000020.mp4; trial 70\n",
      "Failed to decode video idx 148346 from /data/home/dz/Kinetics400/compress/train_256/playing_violin/aRJXxA_1f6U_000010_000020.mp4; trial 71\n",
      "Failed to decode video idx 148346 from /data/home/dz/Kinetics400/compress/train_256/playing_violin/aRJXxA_1f6U_000010_000020.mp4; trial 72\n",
      "Failed to decode video idx 42220 from /data/home/dz/Kinetics400/compress/train_256/cooking_egg/11J84KX8K3w_000088_000098.mp4; trial 73\n",
      "Failed to decode video idx 42220 from /data/home/dz/Kinetics400/compress/train_256/cooking_egg/11J84KX8K3w_000088_000098.mp4; trial 74\n",
      "Failed to decode video idx 42220 from /data/home/dz/Kinetics400/compress/train_256/cooking_egg/11J84KX8K3w_000088_000098.mp4; trial 75\n",
      "Failed to decode video idx 42220 from /data/home/dz/Kinetics400/compress/train_256/cooking_egg/11J84KX8K3w_000088_000098.mp4; trial 76\n",
      "Failed to decode video idx 42220 from /data/home/dz/Kinetics400/compress/train_256/cooking_egg/11J84KX8K3w_000088_000098.mp4; trial 77\n",
      "Failed to decode video idx 42220 from /data/home/dz/Kinetics400/compress/train_256/cooking_egg/11J84KX8K3w_000088_000098.mp4; trial 78\n",
      "Failed to decode video idx 42220 from /data/home/dz/Kinetics400/compress/train_256/cooking_egg/11J84KX8K3w_000088_000098.mp4; trial 79\n",
      "Failed to decode video idx 42220 from /data/home/dz/Kinetics400/compress/train_256/cooking_egg/11J84KX8K3w_000088_000098.mp4; trial 80\n",
      "Failed to decode video idx 42220 from /data/home/dz/Kinetics400/compress/train_256/cooking_egg/11J84KX8K3w_000088_000098.mp4; trial 81\n",
      "Failed to decode video idx 42220 from /data/home/dz/Kinetics400/compress/train_256/cooking_egg/11J84KX8K3w_000088_000098.mp4; trial 82\n",
      "Failed to decode video idx 42220 from /data/home/dz/Kinetics400/compress/train_256/cooking_egg/11J84KX8K3w_000088_000098.mp4; trial 83\n",
      "Failed to decode video idx 42220 from /data/home/dz/Kinetics400/compress/train_256/cooking_egg/11J84KX8K3w_000088_000098.mp4; trial 84\n",
      "Failed to decode video idx 180359 from /data/home/dz/Kinetics400/compress/train_256/singing/NuWExbvRwGo_000294_000304.mp4; trial 85\n",
      "Failed to decode video idx 180359 from /data/home/dz/Kinetics400/compress/train_256/singing/NuWExbvRwGo_000294_000304.mp4; trial 86\n",
      "Failed to decode video idx 180359 from /data/home/dz/Kinetics400/compress/train_256/singing/NuWExbvRwGo_000294_000304.mp4; trial 87\n",
      "Failed to decode video idx 180359 from /data/home/dz/Kinetics400/compress/train_256/singing/NuWExbvRwGo_000294_000304.mp4; trial 88\n",
      "Failed to decode video idx 180359 from /data/home/dz/Kinetics400/compress/train_256/singing/NuWExbvRwGo_000294_000304.mp4; trial 89\n",
      "Failed to decode video idx 180359 from /data/home/dz/Kinetics400/compress/train_256/singing/NuWExbvRwGo_000294_000304.mp4; trial 90\n",
      "Failed to decode video idx 180359 from /data/home/dz/Kinetics400/compress/train_256/singing/NuWExbvRwGo_000294_000304.mp4; trial 91\n",
      "Failed to decode video idx 180359 from /data/home/dz/Kinetics400/compress/train_256/singing/NuWExbvRwGo_000294_000304.mp4; trial 92\n"
     ]
    },
    {
     "name": "stdout",
     "output_type": "stream",
     "text": [
      "Failed to decode by pyav with exception: unsupported operand type(s) for -: 'list' and 'int'\n",
      "Failed to decode by pyav with exception: unsupported operand type(s) for -: 'list' and 'int'\n",
      "Failed to decode by pyav with exception: unsupported operand type(s) for -: 'list' and 'int'\n",
      "Failed to decode by pyav with exception: unsupported operand type(s) for -: 'list' and 'int'\n",
      "Failed to decode by pyav with exception: unsupported operand type(s) for -: 'list' and 'int'\n",
      "Failed to decode by pyav with exception: unsupported operand type(s) for -: 'list' and 'int'\n",
      "Failed to decode by pyav with exception: unsupported operand type(s) for -: 'list' and 'int'\n",
      "Failed to decode by pyav with exception: unsupported operand type(s) for -: 'list' and 'int'\n",
      "Failed to decode by pyav with exception: unsupported operand type(s) for -: 'list' and 'int'\n",
      "Failed to decode by pyav with exception: unsupported operand type(s) for -: 'list' and 'int'\n",
      "Failed to decode by pyav with exception: unsupported operand type(s) for -: 'list' and 'int'\n",
      "Failed to decode by pyav with exception: unsupported operand type(s) for -: 'list' and 'int'\n",
      "Failed to decode by pyav with exception: unsupported operand type(s) for -: 'list' and 'int'\n",
      "Failed to decode by pyav with exception: unsupported operand type(s) for -: 'list' and 'int'\n",
      "Failed to decode by pyav with exception: unsupported operand type(s) for -: 'list' and 'int'\n",
      "Failed to decode by pyav with exception: unsupported operand type(s) for -: 'list' and 'int'\n",
      "Failed to decode by pyav with exception: unsupported operand type(s) for -: 'list' and 'int'\n",
      "Failed to decode by pyav with exception: unsupported operand type(s) for -: 'list' and 'int'\n",
      "Failed to decode by pyav with exception: unsupported operand type(s) for -: 'list' and 'int'\n",
      "Failed to decode by pyav with exception: unsupported operand type(s) for -: 'list' and 'int'\n",
      "Failed to decode by pyav with exception: unsupported operand type(s) for -: 'list' and 'int'\n",
      "Failed to decode by pyav with exception: unsupported operand type(s) for -: 'list' and 'int'\n",
      "Failed to decode by pyav with exception: unsupported operand type(s) for -: 'list' and 'int'\n",
      "Failed to decode by pyav with exception: unsupported operand type(s) for -: 'list' and 'int'\n",
      "Failed to decode by pyav with exception: unsupported operand type(s) for -: 'list' and 'int'\n",
      "Failed to decode by pyav with exception: unsupported operand type(s) for -: 'list' and 'int'\n",
      "Failed to decode by pyav with exception: unsupported operand type(s) for -: 'list' and 'int'\n",
      "Failed to decode by pyav with exception: unsupported operand type(s) for -: 'list' and 'int'\n",
      "Failed to decode by pyav with exception: unsupported operand type(s) for -: 'list' and 'int'\n",
      "Failed to decode by pyav with exception: unsupported operand type(s) for -: 'list' and 'int'\n",
      "Failed to decode by pyav with exception: unsupported operand type(s) for -: 'list' and 'int'\n",
      "Failed to decode by pyav with exception: unsupported operand type(s) for -: 'list' and 'int'\n"
     ]
    },
    {
     "name": "stderr",
     "output_type": "stream",
     "text": [
      "Failed to decode video idx 180359 from /data/home/dz/Kinetics400/compress/train_256/singing/NuWExbvRwGo_000294_000304.mp4; trial 93\n",
      "Failed to decode video idx 180359 from /data/home/dz/Kinetics400/compress/train_256/singing/NuWExbvRwGo_000294_000304.mp4; trial 94\n",
      "Failed to decode video idx 180359 from /data/home/dz/Kinetics400/compress/train_256/singing/NuWExbvRwGo_000294_000304.mp4; trial 95\n",
      "Failed to decode video idx 180359 from /data/home/dz/Kinetics400/compress/train_256/singing/NuWExbvRwGo_000294_000304.mp4; trial 96\n",
      "Failed to decode video idx 144897 from /data/home/dz/Kinetics400/compress/train_256/playing_tennis/7uUL8ELhnp8_000241_000251.mp4; trial 97\n",
      "Failed to decode video idx 144897 from /data/home/dz/Kinetics400/compress/train_256/playing_tennis/7uUL8ELhnp8_000241_000251.mp4; trial 98\n",
      "Failed to decode video idx 144897 from /data/home/dz/Kinetics400/compress/train_256/playing_tennis/7uUL8ELhnp8_000241_000251.mp4; trial 99\n",
      "Failed to fetch video after 100 retries.\n"
     ]
    },
    {
     "name": "stdout",
     "output_type": "stream",
     "text": [
      "Failed to decode by pyav with exception: unsupported operand type(s) for -: 'list' and 'int'\n",
      "Failed to decode by pyav with exception: unsupported operand type(s) for -: 'list' and 'int'\n",
      "Failed to decode by pyav with exception: unsupported operand type(s) for -: 'list' and 'int'\n",
      "Failed to decode by pyav with exception: unsupported operand type(s) for -: 'list' and 'int'\n",
      "Failed to decode by pyav with exception: unsupported operand type(s) for -: 'list' and 'int'\n",
      "Failed to decode by pyav with exception: unsupported operand type(s) for -: 'list' and 'int'\n",
      "Failed to decode by pyav with exception: unsupported operand type(s) for -: 'list' and 'int'\n"
     ]
    }
   ],
   "source": [
    "K[1]"
   ]
  },
  {
   "cell_type": "code",
   "execution_count": null,
   "metadata": {},
   "outputs": [],
   "source": []
  }
 ],
 "metadata": {
  "kernelspec": {
   "display_name": "Python 3.8.16 ('pytorch38': conda)",
   "language": "python",
   "name": "python3"
  },
  "language_info": {
   "codemirror_mode": {
    "name": "ipython",
    "version": 3
   },
   "file_extension": ".py",
   "mimetype": "text/x-python",
   "name": "python",
   "nbconvert_exporter": "python",
   "pygments_lexer": "ipython3",
   "version": "3.8.16"
  },
  "orig_nbformat": 4,
  "vscode": {
   "interpreter": {
    "hash": "bf6aaf766d433d2f98f249c12bf59dd9d69c950777d3408402aaf7cdb2eb22d2"
   }
  }
 },
 "nbformat": 4,
 "nbformat_minor": 2
}
