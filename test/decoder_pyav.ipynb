{
 "cells": [
  {
   "cell_type": "code",
   "execution_count": 2,
   "metadata": {},
   "outputs": [
    {
     "name": "stderr",
     "output_type": "stream",
     "text": [
      "/home/dz/anaconda3/envs/pytorch38/lib/python3.8/site-packages/tqdm-4.65.0-py3.8.egg/tqdm/auto.py:21: TqdmWarning: IProgress not found. Please update jupyter and ipywidgets. See https://ipywidgets.readthedocs.io/en/stable/user_install.html\n",
      "  from .autonotebook import tqdm as notebook_tqdm\n"
     ]
    }
   ],
   "source": [
    "import torch\n",
    "import numpy as np"
   ]
  },
  {
   "cell_type": "code",
   "execution_count": 3,
   "metadata": {},
   "outputs": [],
   "source": [
    "import av"
   ]
  },
  {
   "cell_type": "code",
   "execution_count": 4,
   "metadata": {},
   "outputs": [],
   "source": [
    "from slowfast.utils.parser import load_config, parse_args\n",
    "from slowfast.config.defaults import get_cfg"
   ]
  },
  {
   "cell_type": "code",
   "execution_count": 5,
   "metadata": {},
   "outputs": [],
   "source": [
    "path_to_vid = \"/data/home/dz/Kinetics400/compress/val_256/assembling_computer/eczjBrvBzxo.mkv\"\n",
    "#path_to_vid = \"/data/home/dz/Kinetics400/compress/train_256/riding_mountain_bike/w5ax4GiTkKg_000088_000098.mp4\"\n",
    "#path_to_vid = \"/data/home/dz/Kinetics400/compress/train_256/making_bed/FVJZt2hEXNY_000168_000178.mp4\""
   ]
  },
  {
   "cell_type": "code",
   "execution_count": 6,
   "metadata": {},
   "outputs": [],
   "source": [
    "path_to_config = \"/home/dz/workspace/SlowFast-main/configs/Test/MVIT_B_16x4_CONV.yaml\""
   ]
  },
  {
   "cell_type": "code",
   "execution_count": 7,
   "metadata": {},
   "outputs": [],
   "source": [
    "container = av.open(path_to_vid)"
   ]
  },
  {
   "cell_type": "code",
   "execution_count": 8,
   "metadata": {},
   "outputs": [
    {
     "data": {
      "text/plain": [
       "<av.VideoStream #0 h264, yuv420p 454x256 at 0x7f1532db0e00>"
      ]
     },
     "execution_count": 8,
     "metadata": {},
     "output_type": "execute_result"
    }
   ],
   "source": [
    "container.streams.video[0]"
   ]
  },
  {
   "cell_type": "code",
   "execution_count": 9,
   "metadata": {},
   "outputs": [],
   "source": [
    "fps = float(container.streams.video[0].average_rate)\n",
    "frames_length = container.streams.video[0].frames\n",
    "duration = container.streams.video[0].duration"
   ]
  },
  {
   "cell_type": "code",
   "execution_count": 10,
   "metadata": {},
   "outputs": [
    {
     "data": {
      "text/plain": [
       "(29.97002997002997, 0, None)"
      ]
     },
     "execution_count": 10,
     "metadata": {},
     "output_type": "execute_result"
    }
   ],
   "source": [
    "fps,frames_length,duration"
   ]
  },
  {
   "cell_type": "code",
   "execution_count": 27,
   "metadata": {},
   "outputs": [
    {
     "data": {
      "text/plain": [
       "199"
      ]
     },
     "execution_count": 27,
     "metadata": {},
     "output_type": "execute_result"
    }
   ],
   "source": [
    "container.streams.video[0].frames    "
   ]
  },
  {
   "cell_type": "code",
   "execution_count": null,
   "metadata": {},
   "outputs": [],
   "source": [
    "cfg = get_cfg()\n",
    "cfg.merge_from_file(path_to_config)\n"
   ]
  },
  {
   "cell_type": "code",
   "execution_count": null,
   "metadata": {},
   "outputs": [],
   "source": [
    "cfg.DATA.DECODING_BACKEND"
   ]
  },
  {
   "cell_type": "code",
   "execution_count": 11,
   "metadata": {},
   "outputs": [],
   "source": [
    "import av\n",
    "\n",
    "input_container = av.open(path_to_vid)\n",
    "\n",
    "# 遍历所有媒体流\n",
    "for stream in input_container.streams:\n",
    "    # 判断流类型并解码\n",
    "    if stream.type == 'video':\n",
    "        for packet in input_container.demux(stream):\n",
    "            for frame in packet.decode():\n",
    "                # 处理视频帧\n",
    "                pass\n",
    "\n",
    "input_container.close()\n"
   ]
  },
  {
   "cell_type": "code",
   "execution_count": 12,
   "metadata": {},
   "outputs": [
    {
     "data": {
      "text/plain": [
       "0"
      ]
     },
     "execution_count": 12,
     "metadata": {},
     "output_type": "execute_result"
    }
   ],
   "source": [
    "input_container.streams.video[0].frames"
   ]
  },
  {
   "cell_type": "code",
   "execution_count": 14,
   "metadata": {},
   "outputs": [],
   "source": [
    "video_stream = input_container.streams.video[0]\n",
    "video_decoder = video_stream.codec_context"
   ]
  },
  {
   "cell_type": "code",
   "execution_count": 16,
   "metadata": {},
   "outputs": [
    {
     "data": {
      "text/plain": [
       "3257843287245070437"
      ]
     },
     "execution_count": 16,
     "metadata": {},
     "output_type": "execute_result"
    }
   ],
   "source": [
    "video_stream.frames"
   ]
  },
  {
   "cell_type": "code",
   "execution_count": 12,
   "metadata": {},
   "outputs": [],
   "source": [
    "from slowfast.utils.env import pathmgr"
   ]
  },
  {
   "cell_type": "code",
   "execution_count": 11,
   "metadata": {},
   "outputs": [],
   "source": [
    "path_to_file = \"/home/dz/workspace/SlowFast-main/datapath/kinetics/val.csv\""
   ]
  },
  {
   "cell_type": "code",
   "execution_count": 13,
   "metadata": {},
   "outputs": [],
   "source": [
    "path_dir = []\n",
    "with pathmgr.open(path_to_file, \"r\") as f:\n",
    "    rows = f.read().splitlines()\n",
    "    for clip_idx, path_label in enumerate(rows):\n",
    "        fetch_info = path_label.split(\",\")\n",
    "        path_dir.append(fetch_info[0])\n"
   ]
  },
  {
   "cell_type": "code",
   "execution_count": null,
   "metadata": {},
   "outputs": [],
   "source": [
    "frames_length_0 = 0\n",
    "duration_none = 0\n",
    "num = 0\n",
    "for p in path_dir:\n",
    "    if p=='/data/home/dz/Kinetics400/compress/val_256/crossing_river/ZVdAl-yh9m0.mp4':\n",
    "        continue\n",
    "    container = av.open(p)\n",
    "    fps = float(container.streams.video[0].average_rate)\n",
    "    frames_length = container.streams.video[0].frames\n",
    "    duration = container.streams.video[0].duration\n",
    "    # print(fps,frames_length,duration)\n",
    "    frames_length_0 = (frames_length_0 + 1) if frames_length==0 else frames_length_0\n",
    "    duration_none = (duration_none + 1) if duration==None else duration_none\n",
    "    num = num + 1\n",
    "\n",
    "\n"
   ]
  },
  {
   "cell_type": "code",
   "execution_count": 18,
   "metadata": {},
   "outputs": [
    {
     "data": {
      "text/plain": [
       "(6027, 6027, 19760)"
      ]
     },
     "execution_count": 18,
     "metadata": {},
     "output_type": "execute_result"
    }
   ],
   "source": [
    "frames_length_0,duration_none,num"
   ]
  },
  {
   "cell_type": "code",
   "execution_count": 19,
   "metadata": {},
   "outputs": [
    {
     "data": {
      "text/plain": [
       "0.3050101214574899"
      ]
     },
     "execution_count": 19,
     "metadata": {},
     "output_type": "execute_result"
    }
   ],
   "source": [
    "frames_length_0/num"
   ]
  },
  {
   "cell_type": "code",
   "execution_count": null,
   "metadata": {},
   "outputs": [],
   "source": []
  }
 ],
 "metadata": {
  "kernelspec": {
   "display_name": "Python 3.8.16 ('pytorch38': conda)",
   "language": "python",
   "name": "python3"
  },
  "language_info": {
   "codemirror_mode": {
    "name": "ipython",
    "version": 3
   },
   "file_extension": ".py",
   "mimetype": "text/x-python",
   "name": "python",
   "nbconvert_exporter": "python",
   "pygments_lexer": "ipython3",
   "version": "3.8.16"
  },
  "orig_nbformat": 4,
  "vscode": {
   "interpreter": {
    "hash": "bf6aaf766d433d2f98f249c12bf59dd9d69c950777d3408402aaf7cdb2eb22d2"
   }
  }
 },
 "nbformat": 4,
 "nbformat_minor": 2
}
