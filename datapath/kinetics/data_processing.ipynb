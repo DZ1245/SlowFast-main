{
 "cells": [
  {
   "cell_type": "code",
   "execution_count": 2,
   "metadata": {},
   "outputs": [],
   "source": [
    "import os\n",
    "import csv"
   ]
  },
  {
   "cell_type": "code",
   "execution_count": 6,
   "metadata": {},
   "outputs": [],
   "source": [
    "path_train_csv = '/home/dz/workspace/SlowFast-main/datapath/kinetics/train.csv'\n",
    "f = open(path_train_csv,'w',encoding='utf-8',newline='')\n"
   ]
  },
  {
   "cell_type": "code",
   "execution_count": 7,
   "metadata": {},
   "outputs": [],
   "source": [
    "csv_writer = csv.writer(f)"
   ]
  },
  {
   "cell_type": "code",
   "execution_count": 8,
   "metadata": {},
   "outputs": [],
   "source": [
    "path_train_label = \"/data/home/dz/Kinetics400/compress/train_256\"\n",
    "list_train_label = os.listdir(path_train_label)\n",
    "list_train_label.sort()\n"
   ]
  },
  {
   "cell_type": "code",
   "execution_count": 9,
   "metadata": {},
   "outputs": [
    {
     "data": {
      "text/plain": [
       "0"
      ]
     },
     "execution_count": 9,
     "metadata": {},
     "output_type": "execute_result"
    }
   ],
   "source": [
    "list_train_label.index('abseiling')"
   ]
  },
  {
   "cell_type": "code",
   "execution_count": 10,
   "metadata": {},
   "outputs": [],
   "source": [
    "for L in list_train_label:\n",
    "    path_label_video = path_train_label + '/' + L\n",
    "    list_labei_video = os.listdir(path_label_video)\n",
    "    for V in list_labei_video:\n",
    "        csv_writer.writerow([path_label_video + '/' + V, list_train_label.index(L)])\n",
    "f.close()"
   ]
  },
  {
   "cell_type": "code",
   "execution_count": 3,
   "metadata": {},
   "outputs": [],
   "source": [
    "path_train_csv = '/home/dz/workspace/SlowFast-main/datapath/kinetics/val.csv'\n",
    "f = open(path_train_csv,'w',encoding='utf-8',newline='')\n",
    "csv_writer = csv.writer(f)\n",
    "path_train_label = \"/data/home/dz/Kinetics400/compress/val_256\"\n",
    "list_train_label = os.listdir(path_train_label)\n",
    "list_train_label.sort()\n",
    "for L in list_train_label:\n",
    "    path_label_video = path_train_label + '/' + L\n",
    "    list_labei_video = os.listdir(path_label_video)\n",
    "    for V in list_labei_video:\n",
    "        csv_writer.writerow([path_label_video + '/' + V, list_train_label.index(L)])\n",
    "f.close()"
   ]
  },
  {
   "cell_type": "code",
   "execution_count": null,
   "metadata": {},
   "outputs": [],
   "source": []
  }
 ],
 "metadata": {
  "kernelspec": {
   "display_name": "pytorch",
   "language": "python",
   "name": "python3"
  },
  "language_info": {
   "codemirror_mode": {
    "name": "ipython",
    "version": 3
   },
   "file_extension": ".py",
   "mimetype": "text/x-python",
   "name": "python",
   "nbconvert_exporter": "python",
   "pygments_lexer": "ipython3",
   "version": "3.8.16"
  },
  "orig_nbformat": 4
 },
 "nbformat": 4,
 "nbformat_minor": 2
}
